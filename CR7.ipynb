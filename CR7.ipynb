{
 "cells": [
  {
   "cell_type": "code",
   "execution_count": 17,
   "metadata": {},
   "outputs": [],
   "source": [
    "import pandas as pd\n",
    "import numpy as py\n",
    "import matplotlib.pyplot as plt"
   ]
  },
  {
   "cell_type": "code",
   "execution_count": 18,
   "metadata": {},
   "outputs": [
    {
     "name": "stdout",
     "output_type": "stream",
     "text": [
      "Index(['height', 'weight', 'age', 'isManOfTheMatch', 'isActive',\n",
      "       'playedPositions', 'playedPositionsShort', 'teamRegionName',\n",
      "       'regionCode', 'tournamentShortName', 'apps', 'subOn', 'manOfTheMatch',\n",
      "       'goal', 'assistTotal', 'shotsPerGame', 'aerialWonPerGame', 'name',\n",
      "       'firstName', 'lastName', 'playerId', 'positionText', 'teamId',\n",
      "       'teamName', 'seasonId', 'seasonName', 'isOpta', 'tournamentId',\n",
      "       'tournamentRegionId', 'tournamentRegionCode', 'tournamentRegionName',\n",
      "       'tournamentName', 'rating', 'minsPlayed', 'yellowCard', 'redCard',\n",
      "       'passSuccess', 'ranking'],\n",
      "      dtype='object')\n"
     ]
    }
   ],
   "source": [
    "cr7 = pd.read_csv('CR7history.csv')\n",
    "print (cr7.columns)"
   ]
  },
  {
   "cell_type": "code",
   "execution_count": 19,
   "metadata": {},
   "outputs": [
    {
     "data": {
      "text/html": [
       "<div>\n",
       "<style scoped>\n",
       "    .dataframe tbody tr th:only-of-type {\n",
       "        vertical-align: middle;\n",
       "    }\n",
       "\n",
       "    .dataframe tbody tr th {\n",
       "        vertical-align: top;\n",
       "    }\n",
       "\n",
       "    .dataframe thead th {\n",
       "        text-align: right;\n",
       "    }\n",
       "</style>\n",
       "<table border=\"1\" class=\"dataframe\">\n",
       "  <thead>\n",
       "    <tr style=\"text-align: right;\">\n",
       "      <th></th>\n",
       "      <th>height</th>\n",
       "      <th>weight</th>\n",
       "      <th>age</th>\n",
       "      <th>isManOfTheMatch</th>\n",
       "      <th>isActive</th>\n",
       "      <th>playedPositions</th>\n",
       "      <th>playedPositionsShort</th>\n",
       "      <th>teamRegionName</th>\n",
       "      <th>regionCode</th>\n",
       "      <th>tournamentShortName</th>\n",
       "      <th>...</th>\n",
       "      <th>tournamentRegionId</th>\n",
       "      <th>tournamentRegionCode</th>\n",
       "      <th>tournamentRegionName</th>\n",
       "      <th>tournamentName</th>\n",
       "      <th>rating</th>\n",
       "      <th>minsPlayed</th>\n",
       "      <th>yellowCard</th>\n",
       "      <th>redCard</th>\n",
       "      <th>passSuccess</th>\n",
       "      <th>ranking</th>\n",
       "    </tr>\n",
       "  </thead>\n",
       "  <tbody>\n",
       "    <tr>\n",
       "      <th>0</th>\n",
       "      <td>187</td>\n",
       "      <td>83</td>\n",
       "      <td>36</td>\n",
       "      <td>False</td>\n",
       "      <td>True</td>\n",
       "      <td>-FW-ML-</td>\n",
       "      <td>M(L),FW</td>\n",
       "      <td>Portugal</td>\n",
       "      <td>pt</td>\n",
       "      <td>WC</td>\n",
       "      <td>...</td>\n",
       "      <td>247</td>\n",
       "      <td>cint</td>\n",
       "      <td>International</td>\n",
       "      <td>FIFA World Cup</td>\n",
       "      <td>7.130000</td>\n",
       "      <td>270</td>\n",
       "      <td>1.0</td>\n",
       "      <td>0.0</td>\n",
       "      <td>81.818182</td>\n",
       "      <td>1</td>\n",
       "    </tr>\n",
       "    <tr>\n",
       "      <th>1</th>\n",
       "      <td>187</td>\n",
       "      <td>83</td>\n",
       "      <td>36</td>\n",
       "      <td>False</td>\n",
       "      <td>True</td>\n",
       "      <td>-FW-ML-</td>\n",
       "      <td>M(L),FW</td>\n",
       "      <td>Italy</td>\n",
       "      <td>pt</td>\n",
       "      <td>ISA</td>\n",
       "      <td>...</td>\n",
       "      <td>108</td>\n",
       "      <td>it</td>\n",
       "      <td>Italy</td>\n",
       "      <td>Serie A</td>\n",
       "      <td>7.628125</td>\n",
       "      <td>2733</td>\n",
       "      <td>3.0</td>\n",
       "      <td>0.0</td>\n",
       "      <td>81.846473</td>\n",
       "      <td>2</td>\n",
       "    </tr>\n",
       "    <tr>\n",
       "      <th>2</th>\n",
       "      <td>187</td>\n",
       "      <td>83</td>\n",
       "      <td>36</td>\n",
       "      <td>False</td>\n",
       "      <td>True</td>\n",
       "      <td>-FW-ML-</td>\n",
       "      <td>M(L),FW</td>\n",
       "      <td>Italy</td>\n",
       "      <td>pt</td>\n",
       "      <td>UCL</td>\n",
       "      <td>...</td>\n",
       "      <td>250</td>\n",
       "      <td>ceu</td>\n",
       "      <td>Europe</td>\n",
       "      <td>Champions League</td>\n",
       "      <td>7.738333</td>\n",
       "      <td>570</td>\n",
       "      <td>0.0</td>\n",
       "      <td>0.0</td>\n",
       "      <td>81.428571</td>\n",
       "      <td>3</td>\n",
       "    </tr>\n",
       "    <tr>\n",
       "      <th>3</th>\n",
       "      <td>187</td>\n",
       "      <td>83</td>\n",
       "      <td>36</td>\n",
       "      <td>False</td>\n",
       "      <td>True</td>\n",
       "      <td>-FW-ML-</td>\n",
       "      <td>M(L),FW</td>\n",
       "      <td>Portugal</td>\n",
       "      <td>pt</td>\n",
       "      <td>UNL</td>\n",
       "      <td>...</td>\n",
       "      <td>247</td>\n",
       "      <td>cint</td>\n",
       "      <td>International</td>\n",
       "      <td>UEFA Nations League A</td>\n",
       "      <td>7.115000</td>\n",
       "      <td>351</td>\n",
       "      <td>1.0</td>\n",
       "      <td>0.0</td>\n",
       "      <td>90.714286</td>\n",
       "      <td>4</td>\n",
       "    </tr>\n",
       "    <tr>\n",
       "      <th>4</th>\n",
       "      <td>187</td>\n",
       "      <td>83</td>\n",
       "      <td>36</td>\n",
       "      <td>False</td>\n",
       "      <td>True</td>\n",
       "      <td>-FW-ML-</td>\n",
       "      <td>M(L),FW</td>\n",
       "      <td>Italy</td>\n",
       "      <td>pt</td>\n",
       "      <td>ISA</td>\n",
       "      <td>...</td>\n",
       "      <td>108</td>\n",
       "      <td>it</td>\n",
       "      <td>Italy</td>\n",
       "      <td>Serie A</td>\n",
       "      <td>7.817576</td>\n",
       "      <td>2919</td>\n",
       "      <td>3.0</td>\n",
       "      <td>0.0</td>\n",
       "      <td>85.132890</td>\n",
       "      <td>5</td>\n",
       "    </tr>\n",
       "  </tbody>\n",
       "</table>\n",
       "<p>5 rows × 38 columns</p>\n",
       "</div>"
      ],
      "text/plain": [
       "   height  weight  age  isManOfTheMatch  isActive playedPositions  \\\n",
       "0     187      83   36            False      True         -FW-ML-   \n",
       "1     187      83   36            False      True         -FW-ML-   \n",
       "2     187      83   36            False      True         -FW-ML-   \n",
       "3     187      83   36            False      True         -FW-ML-   \n",
       "4     187      83   36            False      True         -FW-ML-   \n",
       "\n",
       "  playedPositionsShort teamRegionName regionCode tournamentShortName  ...  \\\n",
       "0              M(L),FW       Portugal         pt                  WC  ...   \n",
       "1              M(L),FW          Italy         pt                 ISA  ...   \n",
       "2              M(L),FW          Italy         pt                 UCL  ...   \n",
       "3              M(L),FW       Portugal         pt                 UNL  ...   \n",
       "4              M(L),FW          Italy         pt                 ISA  ...   \n",
       "\n",
       "   tournamentRegionId  tournamentRegionCode  tournamentRegionName  \\\n",
       "0                 247                  cint         International   \n",
       "1                 108                    it                 Italy   \n",
       "2                 250                   ceu                Europe   \n",
       "3                 247                  cint         International   \n",
       "4                 108                    it                 Italy   \n",
       "\n",
       "          tournamentName    rating  minsPlayed  yellowCard redCard  \\\n",
       "0         FIFA World Cup  7.130000         270         1.0     0.0   \n",
       "1                Serie A  7.628125        2733         3.0     0.0   \n",
       "2       Champions League  7.738333         570         0.0     0.0   \n",
       "3  UEFA Nations League A  7.115000         351         1.0     0.0   \n",
       "4                Serie A  7.817576        2919         3.0     0.0   \n",
       "\n",
       "  passSuccess ranking  \n",
       "0   81.818182       1  \n",
       "1   81.846473       2  \n",
       "2   81.428571       3  \n",
       "3   90.714286       4  \n",
       "4   85.132890       5  \n",
       "\n",
       "[5 rows x 38 columns]"
      ]
     },
     "execution_count": 19,
     "metadata": {},
     "output_type": "execute_result"
    }
   ],
   "source": [
    "#lets see some of the results of the table: filter the first 5 by 'ranking'\n",
    "cr7[(cr7['ranking']<6)]"
   ]
  },
  {
   "cell_type": "code",
   "execution_count": 33,
   "metadata": {},
   "outputs": [
    {
     "data": {
      "text/plain": [
       "<AxesSubplot:xlabel='seasonName'>"
      ]
     },
     "execution_count": 33,
     "metadata": {},
     "output_type": "execute_result"
    },
    {
     "data": {
      "image/png": "[encoded data removed]",
      "text/plain": [
       "<Figure size 432x288 with 1 Axes>"
      ]
     },
     "metadata": {
      "needs_background": "light"
     },
     "output_type": "display_data"
    }
   ],
   "source": [
    "#GOALS PER SEASON IN UCL\n",
    "\n",
    "#Applying a Filter for Champions League Tournament\n",
    "cr7ucl= cr7[cr7['tournamentName'] == 'Champions League']\n",
    "\n",
    "#first I need to group the seasons by amount of goals\n",
    "uclpt =pd.pivot_table(cr7ucl, index=[\"seasonName\"], values=[\"goal\"], aggfunc=py.sum)\n",
    "\n",
    "# now I need to transform this pivot in a dataframe\n",
    "dfucl = uclpt.reset_index()\n",
    "\n",
    "# finally with this new df I will plot the graphic in a bar chart\n",
    "dfucl.plot.bar(x='seasonName', y='goal')"
   ]
  },
  {
   "cell_type": "markdown",
   "metadata": {},
   "source": [
    "Best Season for Cristiano Ronaldo in UCL (Uefa Champions League) was in 2013-2014"
   ]
  },
  {
   "cell_type": "code",
   "execution_count": 37,
   "metadata": {},
   "outputs": [
    {
     "data": {
      "image/png": "[encoded data removed]",
      "text/plain": [
       "<Figure size 432x288 with 1 Axes>"
      ]
     },
     "metadata": {},
     "output_type": "display_data"
    }
   ],
   "source": [
    "#GOALS PER TEAM\n",
    "\n",
    "#first I need to group the teams by amount of goals\n",
    "teampt =pd.pivot_table(cr7, index=[\"teamName\"], values=[\"goal\"], aggfunc=py.sum)\n",
    "\n",
    "# now I need to transform this pivot in a dataframe\n",
    "dfteam = teampt.reset_index()\n",
    "\n",
    "# finally with this new df I will plot the graphic in a bar chart\n",
    "plt.pie(dfteam['goal'], labels = dfteam['teamName'], startangle = 90)\n",
    "plt.show() "
   ]
  },
  {
   "cell_type": "code",
   "execution_count": 43,
   "metadata": {},
   "outputs": [
    {
     "data": {
      "text/plain": [
       "<AxesSubplot:xlabel='tournamentName'>"
      ]
     },
     "execution_count": 43,
     "metadata": {},
     "output_type": "execute_result"
    },
    {
     "data": {
      "image/png": "[encoded data removed]",
      "text/plain": [
       "<Figure size 432x288 with 1 Axes>"
      ]
     },
     "metadata": {
      "needs_background": "light"
     },
     "output_type": "display_data"
    }
   ],
   "source": [
    "#GOALS PER TOURNAMENT\n",
    "\n",
    "#first I need to group the teams by amount of goals\n",
    "tourpt =pd.pivot_table(cr7, index=['tournamentName'], values=['goal'], aggfunc=py.sum)\n",
    "\n",
    "# now I need to transform this pivot in a dataframe\n",
    "dftour = tourpt.reset_index()\n",
    "\n",
    "# finally with this new df I will plot the graphic in a bar chart\n",
    "dftour.plot.bar(x='tournamentName', y='goal')"
   ]
  },
  {
   "cell_type": "code",
   "execution_count": null,
   "metadata": {},
   "outputs": [],
   "source": []
  }
 ],
 "metadata": {
  "kernelspec": {
   "display_name": "Python 3",
   "language": "python",
   "name": "python3"
  },
  "language_info": {
   "codemirror_mode": {
    "name": "ipython",
    "version": 3
   },
   "file_extension": ".py",
   "mimetype": "text/x-python",
   "name": "python",
   "nbconvert_exporter": "python",
   "pygments_lexer": "ipython3",
   "version": "3.9.5"
  }
 },
 "nbformat": 4,
 "nbformat_minor": 4
}
